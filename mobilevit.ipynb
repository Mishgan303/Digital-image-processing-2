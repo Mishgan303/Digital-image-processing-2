{
 "cells": [
  {
   "cell_type": "markdown",
   "metadata": {
    "id": "vju2doOTuN3R"
   },
   "source": [
    "Ссылка на картинку\n",
    "https://assets.change.org/photos/6/qw/cm/wMqwcmyueCvbIAY-1600x900-noPad.jpg?1509214426"
   ]
  },
  {
   "cell_type": "code",
   "execution_count": null,
   "metadata": {
    "colab": {
     "base_uri": "https://localhost:8080/"
    },
    "id": "2VdHmyzSs0d9",
    "outputId": "622f3c30-ebf3-44e1-baf5-ce44ab434254"
   },
   "outputs": [
    {
     "name": "stdout",
     "output_type": "stream",
     "text": [
      "Requirement already satisfied: transformers in /usr/local/lib/python3.12/dist-packages (4.56.1)\n",
      "Requirement already satisfied: filelock in /usr/local/lib/python3.12/dist-packages (from transformers) (3.19.1)\n",
      "Requirement already satisfied: huggingface-hub<1.0,>=0.34.0 in /usr/local/lib/python3.12/dist-packages (from transformers) (0.34.4)\n",
      "Requirement already satisfied: numpy>=1.17 in /usr/local/lib/python3.12/dist-packages (from transformers) (2.0.2)\n",
      "Requirement already satisfied: packaging>=20.0 in /usr/local/lib/python3.12/dist-packages (from transformers) (25.0)\n",
      "Requirement already satisfied: pyyaml>=5.1 in /usr/local/lib/python3.12/dist-packages (from transformers) (6.0.2)\n",
      "Requirement already satisfied: regex!=2019.12.17 in /usr/local/lib/python3.12/dist-packages (from transformers) (2024.11.6)\n",
      "Requirement already satisfied: requests in /usr/local/lib/python3.12/dist-packages (from transformers) (2.32.4)\n",
      "Requirement already satisfied: tokenizers<=0.23.0,>=0.22.0 in /usr/local/lib/python3.12/dist-packages (from transformers) (0.22.0)\n",
      "Requirement already satisfied: safetensors>=0.4.3 in /usr/local/lib/python3.12/dist-packages (from transformers) (0.6.2)\n",
      "Requirement already satisfied: tqdm>=4.27 in /usr/local/lib/python3.12/dist-packages (from transformers) (4.67.1)\n",
      "Requirement already satisfied: fsspec>=2023.5.0 in /usr/local/lib/python3.12/dist-packages (from huggingface-hub<1.0,>=0.34.0->transformers) (2025.3.0)\n",
      "Requirement already satisfied: typing-extensions>=3.7.4.3 in /usr/local/lib/python3.12/dist-packages (from huggingface-hub<1.0,>=0.34.0->transformers) (4.15.0)\n",
      "Requirement already satisfied: hf-xet<2.0.0,>=1.1.3 in /usr/local/lib/python3.12/dist-packages (from huggingface-hub<1.0,>=0.34.0->transformers) (1.1.9)\n",
      "Requirement already satisfied: charset_normalizer<4,>=2 in /usr/local/lib/python3.12/dist-packages (from requests->transformers) (3.4.3)\n",
      "Requirement already satisfied: idna<4,>=2.5 in /usr/local/lib/python3.12/dist-packages (from requests->transformers) (3.10)\n",
      "Requirement already satisfied: urllib3<3,>=1.21.1 in /usr/local/lib/python3.12/dist-packages (from requests->transformers) (2.5.0)\n",
      "Requirement already satisfied: certifi>=2017.4.17 in /usr/local/lib/python3.12/dist-packages (from requests->transformers) (2025.8.3)\n"
     ]
    }
   ],
   "source": [
    "pip install transformers"
   ]
  },
  {
   "cell_type": "code",
   "execution_count": null,
   "metadata": {
    "colab": {
     "base_uri": "https://localhost:8080/",
     "height": 200,
     "referenced_widgets": [
      "6dae0f32c1134d0d9f1a5881e94f7ac5",
      "740db034c71b4ad899cd08c2fff1f169",
      "c57158ced0004df7a450d2a4b3712a72",
      "ee4d263220d34bf9b235cd1e40a0307d",
      "4a4705e4fdc24e1589c7bd7dc27265a9",
      "d4343ac9f9d647438818cb749531cff1",
      "371347f635ae4c93a6a2eed4bcd29fbe",
      "d34f018f54d7410ca219372878859a07",
      "4ce6297aa8ae40819bec1026680f9b9a",
      "55a5a4a78cd9479cb27429f56d6d2311",
      "01db933bbeaf4b51be98ae903fd31ffa",
      "627bb3c21c6a4bf8aa31bdd6817c3f74",
      "488486210bd44102afb8e768b6f77022",
      "bc04654e6fe6416597767ae3b1b6d65d",
      "7d935d1a5c054506a7f35069e3c4191d",
      "fc223f855e8942c187a9e07da52e0d57",
      "4ca94015fa8949c6bf5713c9dc2f9eae",
      "865c4bdfea044433a16f27b702634b63",
      "a3fb8f0f7c964e588b48aca848388517",
      "f67c034a6b5042fab016a06638996594",
      "f154df07e5f448b692fb2fc183a5a5bf",
      "ae2de9bce330496b909c67cb2f3d3f07",
      "3a69c25f96d24695b0100602bed747ee",
      "8abb9926910749d69bbb4fb23e88270b",
      "a22d36bc35d9448bab605eec92f0acd0",
      "d5298faaf0994bfbab24391ec8e4b151",
      "27553f4855e3496cb210677d94986cd1",
      "671dbc2f708c4068b950ac2008d0d00f",
      "e3f369d3cb354f55804967574a2aac84",
      "1978b95f250c4478976c0716d488e317",
      "14ace2e9449b4102bf19d306da2ec902",
      "cd5272e6b18548e9a51d4489701a3fb6",
      "c2747d10ba6c46e2aa39a1f681dbc00a",
      "1fc8c98e026e4483bef9de35733392f7",
      "6432ce84020f4fe0a1bb8e3b5788f076",
      "389610d8fb5641cdaa1393ec474eadf5",
      "af2ad128b132428797f0523a6747b6d9",
      "63ba1e958f1c4c6689cd67ee25a259bf",
      "3c33225850094c9b8a902c835367838b",
      "2a00c38cd33d45328afb34fdc601c012",
      "d8729e31c0cd4b988a4394897b9fd03f",
      "7d81065050aa401aa032506182bcfd4a",
      "054901a2fe694bc389ed10ed80e2b006",
      "fb55140169e44e349a0104be5fcccb7a"
     ]
    },
    "id": "G6L6R497tGyw",
    "outputId": "804eecbe-c5b0-4a27-cd53-05bcebb65ccb"
   },
   "outputs": [
    {
     "data": {
      "application/vnd.jupyter.widget-view+json": {
       "model_id": "6dae0f32c1134d0d9f1a5881e94f7ac5",
       "version_major": 2,
       "version_minor": 0
      },
      "text/plain": [
       "Fetching 1 files:   0%|          | 0/1 [00:00<?, ?it/s]"
      ]
     },
     "metadata": {},
     "output_type": "display_data"
    },
    {
     "data": {
      "application/vnd.jupyter.widget-view+json": {
       "model_id": "627bb3c21c6a4bf8aa31bdd6817c3f74",
       "version_major": 2,
       "version_minor": 0
      },
      "text/plain": [
       "preprocessor_config.json:   0%|          | 0.00/316 [00:00<?, ?B/s]"
      ]
     },
     "metadata": {},
     "output_type": "display_data"
    },
    {
     "name": "stderr",
     "output_type": "stream",
     "text": [
      "Using a slow image processor as `use_fast` is unset and a slow processor was saved with this model. `use_fast=True` will be the default behavior in v4.52, even if the model was saved with a slow processor. This will result in minor differences in outputs. You'll still be able to use a slow processor with `use_fast=False`.\n"
     ]
    },
    {
     "data": {
      "application/vnd.jupyter.widget-view+json": {
       "model_id": "3a69c25f96d24695b0100602bed747ee",
       "version_major": 2,
       "version_minor": 0
      },
      "text/plain": [
       "config.json: 0.00B [00:00, ?B/s]"
      ]
     },
     "metadata": {},
     "output_type": "display_data"
    },
    {
     "data": {
      "application/vnd.jupyter.widget-view+json": {
       "model_id": "1fc8c98e026e4483bef9de35733392f7",
       "version_major": 2,
       "version_minor": 0
      },
      "text/plain": [
       "pytorch_model.bin:   0%|          | 0.00/19.8M [00:00<?, ?B/s]"
      ]
     },
     "metadata": {},
     "output_type": "display_data"
    },
    {
     "name": "stdout",
     "output_type": "stream",
     "text": [
      "English setter\n"
     ]
    }
   ],
   "source": [
    "from transformers import AutoImageProcessor, MobileViTV2ForImageClassification\n",
    "from datasets import load_dataset\n",
    "from PIL import Image\n",
    "import requests\n",
    "\n",
    "url = \"https://assets.change.org/photos/6/qw/cm/wMqwcmyueCvbIAY-1600x900-noPad.jpg?1509214426\"\n",
    "image = Image.open(requests.get(url, stream=True).raw)\n",
    "\n",
    "image_processor = AutoImageProcessor.from_pretrained(\n",
    "    \"apple/mobilevitv2-1.0-imagenet1k-256\"\n",
    ")\n",
    "model = MobileViTV2ForImageClassification.from_pretrained(\n",
    "    \"apple/mobilevitv2-1.0-imagenet1k-256\"\n",
    ")\n",
    "\n",
    "inputs = image_processor(image, return_tensors=\"pt\")\n",
    "\n",
    "logits = model(**inputs).logits\n",
    "\n",
    "# model predicts one of the 1000 ImageNet classes\n",
    "predicted_label = logits.argmax(-1).item()\n",
    "print(model.config.id2label[predicted_label])"
   ]
  },
  {
   "cell_type": "code",
   "execution_count": null,
   "metadata": {
    "id": "I7o2sAvhtLJJ"
   },
   "outputs": [],
   "source": []
  }
 ],
 "metadata": {
  "colab": {
   "provenance": []
  },
  "kernelspec": {
   "display_name": "Python 3 (ipykernel)",
   "language": "python",
   "name": "python3"
  },
  "language_info": {
   "codemirror_mode": {
    "name": "ipython",
    "version": 3
   },
   "file_extension": ".py",
   "mimetype": "text/x-python",
   "name": "python",
   "nbconvert_exporter": "python",
   "pygments_lexer": "ipython3",
   "version": "3.11.0"
  },
  "widgets": {
   "application/vnd.jupyter.widget-state+json": {
    "state": {},
    "version_major": 2,
    "version_minor": 0
   }
  }
 },
 "nbformat": 4,
 "nbformat_minor": 4
}
