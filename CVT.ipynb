{
 "cells": [
  {
   "cell_type": "code",
   "execution_count": 1,
   "metadata": {
    "colab": {
     "base_uri": "https://localhost:8080/"
    },
    "id": "3ozq_84oi4Bw",
    "outputId": "3d69eaec-e057-4d8f-c7ee-b2a348cc8e4d"
   },
   "outputs": [
    {
     "name": "stdout",
     "output_type": "stream",
     "text": [
      "Requirement already satisfied: transformers in /usr/local/lib/python3.12/dist-packages (4.56.0)\n",
      "Requirement already satisfied: filelock in /usr/local/lib/python3.12/dist-packages (from transformers) (3.19.1)\n",
      "Requirement already satisfied: huggingface-hub<1.0,>=0.34.0 in /usr/local/lib/python3.12/dist-packages (from transformers) (0.34.4)\n",
      "Requirement already satisfied: numpy>=1.17 in /usr/local/lib/python3.12/dist-packages (from transformers) (2.0.2)\n",
      "Requirement already satisfied: packaging>=20.0 in /usr/local/lib/python3.12/dist-packages (from transformers) (25.0)\n",
      "Requirement already satisfied: pyyaml>=5.1 in /usr/local/lib/python3.12/dist-packages (from transformers) (6.0.2)\n",
      "Requirement already satisfied: regex!=2019.12.17 in /usr/local/lib/python3.12/dist-packages (from transformers) (2024.11.6)\n",
      "Requirement already satisfied: requests in /usr/local/lib/python3.12/dist-packages (from transformers) (2.32.4)\n",
      "Requirement already satisfied: tokenizers<=0.23.0,>=0.22.0 in /usr/local/lib/python3.12/dist-packages (from transformers) (0.22.0)\n",
      "Requirement already satisfied: safetensors>=0.4.3 in /usr/local/lib/python3.12/dist-packages (from transformers) (0.6.2)\n",
      "Requirement already satisfied: tqdm>=4.27 in /usr/local/lib/python3.12/dist-packages (from transformers) (4.67.1)\n",
      "Requirement already satisfied: fsspec>=2023.5.0 in /usr/local/lib/python3.12/dist-packages (from huggingface-hub<1.0,>=0.34.0->transformers) (2025.3.0)\n",
      "Requirement already satisfied: typing-extensions>=3.7.4.3 in /usr/local/lib/python3.12/dist-packages (from huggingface-hub<1.0,>=0.34.0->transformers) (4.15.0)\n",
      "Requirement already satisfied: hf-xet<2.0.0,>=1.1.3 in /usr/local/lib/python3.12/dist-packages (from huggingface-hub<1.0,>=0.34.0->transformers) (1.1.9)\n",
      "Requirement already satisfied: charset_normalizer<4,>=2 in /usr/local/lib/python3.12/dist-packages (from requests->transformers) (3.4.3)\n",
      "Requirement already satisfied: idna<4,>=2.5 in /usr/local/lib/python3.12/dist-packages (from requests->transformers) (3.10)\n",
      "Requirement already satisfied: urllib3<3,>=1.21.1 in /usr/local/lib/python3.12/dist-packages (from requests->transformers) (2.5.0)\n",
      "Requirement already satisfied: certifi>=2017.4.17 in /usr/local/lib/python3.12/dist-packages (from requests->transformers) (2025.8.3)\n"
     ]
    }
   ],
   "source": [
    "pip install transformers"
   ]
  },
  {
   "cell_type": "code",
   "execution_count": 2,
   "metadata": {
    "colab": {
     "base_uri": "https://localhost:8080/",
     "height": 304,
     "referenced_widgets": [
      "1d503490ac1e4c798b1f1403e33d7cd8",
      "1a9268727856446aae7fc5c38e479bdb",
      "2b16a0e9a9884844ba987e85d5d76cc0",
      "4b3eedabe15543429eedf42fc3bbbf41",
      "382f5a233335416db1e1ea85d3d1205e",
      "715112a3fc91454f9fcf6c1ded188292",
      "7172d7b3828d4b40a79276f8bc5bdec2",
      "b02898af790d4e758b78bca20099ec39",
      "80a7d91a47934f1aa9b7d46089942e9e",
      "20d4b8d3ea594383b9b241569647507e",
      "81b8d79e2e554a02a719c04a38578ce7",
      "7bacacc85bf943038d10127bf358dee6",
      "b7188590d5a0498a9398f3c506c21f8d",
      "79bedc796e2f4bb0a667eb762596b95b",
      "9aacd6fbe15d4285be61e24b1e0afdbe",
      "15475fc4a21d449fb895ca2e99da8fcc",
      "9916d616739c4a17b252f7b31b0a2d79",
      "6a09e5fe58a74af5afc7d4beb3ad2e43",
      "3152d1d13cb3446daeca77e4279aa74c",
      "f38c6d7034ab47d3ae882d8d823c67e8",
      "886a3df3f79641a5abe26982d505e1cd",
      "08fda7d8aaee4d0499fcfc7badc08329",
      "3d37a66c31b342b0abb03d5f909b4c63",
      "aa5a0325a89d437d9f8002a262d3c767",
      "50f7f3d80b1a4b5d869ab922e94bd04e",
      "6fae34a7799547c984dd202ebb574b8f",
      "c646f4218a1648e5af9c1c77c2215e90",
      "ba0f18a72da14f4fb763bfbfc13ab954",
      "1f66edcda9504d4aba8f944b218b8b61",
      "7f88bc7c2c204d419d078faf23899b51",
      "3b579ebab7b84aabb60ba91c7b3e1fd9",
      "3200bc7115fa4b1f804af2bbf3440dc2",
      "0c32120eb2f34dddb206c58d2328991d",
      "f2ad1bc026c4477ea46bf5d066cf447c",
      "a004c7d6e57e4dea83d89658d35b9acc",
      "3b79568fd96446dd838ccb1bd13121b6",
      "44c0a3c371904aaa9b0211025255f3ce",
      "c646900add794d569d1634754120a5dd",
      "89322dee63ca409f936702d9148bce2f",
      "d6abe0c9a17c4bfc8312cfeddb131e01",
      "1ad242ff971b4c45bcda74f118efd1f7",
      "d3523ad9c16a4872a7bda23979e935b6",
      "225da35071174c54a5c9ed7e5b40fb82",
      "410bdc8c74754dc79a3e79a270ea51dc"
     ]
    },
    "id": "CFu3foFJjID3",
    "outputId": "e51ed537-296e-4028-9f9d-f7928d74b1ff"
   },
   "outputs": [
    {
     "name": "stderr",
     "output_type": "stream",
     "text": [
      "/usr/local/lib/python3.12/dist-packages/huggingface_hub/utils/_auth.py:104: UserWarning: \n",
      "Error while fetching `HF_TOKEN` secret value from your vault: 'Requesting secret HF_TOKEN timed out. Secrets can only be fetched when running from the Colab UI.'.\n",
      "You are not authenticated with the Hugging Face Hub in this notebook.\n",
      "If the error persists, please let us know by opening an issue on GitHub (https://github.com/huggingface/huggingface_hub/issues/new).\n",
      "  warnings.warn(\n"
     ]
    },
    {
     "data": {
      "application/vnd.jupyter.widget-view+json": {
       "model_id": "1d503490ac1e4c798b1f1403e33d7cd8",
       "version_major": 2,
       "version_minor": 0
      },
      "text/plain": [
       "Fetching 1 files:   0%|          | 0/1 [00:00<?, ?it/s]"
      ]
     },
     "metadata": {},
     "output_type": "display_data"
    },
    {
     "data": {
      "application/vnd.jupyter.widget-view+json": {
       "model_id": "7bacacc85bf943038d10127bf358dee6",
       "version_major": 2,
       "version_minor": 0
      },
      "text/plain": [
       "preprocessor_config.json:   0%|          | 0.00/266 [00:00<?, ?B/s]"
      ]
     },
     "metadata": {},
     "output_type": "display_data"
    },
    {
     "name": "stderr",
     "output_type": "stream",
     "text": [
      "/usr/local/lib/python3.12/dist-packages/transformers/models/convnext/feature_extraction_convnext.py:30: FutureWarning: The class ConvNextFeatureExtractor is deprecated and will be removed in version 5 of Transformers. Please use ConvNextImageProcessor instead.\n",
      "  warnings.warn(\n"
     ]
    },
    {
     "data": {
      "application/vnd.jupyter.widget-view+json": {
       "model_id": "3d37a66c31b342b0abb03d5f909b4c63",
       "version_major": 2,
       "version_minor": 0
      },
      "text/plain": [
       "config.json: 0.00B [00:00, ?B/s]"
      ]
     },
     "metadata": {},
     "output_type": "display_data"
    },
    {
     "data": {
      "application/vnd.jupyter.widget-view+json": {
       "model_id": "f2ad1bc026c4477ea46bf5d066cf447c",
       "version_major": 2,
       "version_minor": 0
      },
      "text/plain": [
       "model.safetensors:   0%|          | 0.00/80.2M [00:00<?, ?B/s]"
      ]
     },
     "metadata": {},
     "output_type": "display_data"
    },
    {
     "name": "stdout",
     "output_type": "stream",
     "text": [
      "Predicted class: Labrador retriever\n"
     ]
    }
   ],
   "source": [
    "from transformers import AutoFeatureExtractor, CvtForImageClassification\n",
    "from PIL import Image\n",
    "import requests\n",
    "\n",
    "url = \"https://i.pinimg.com/originals/fa/0d/df/fa0ddfe079e9137ec1fa3d200f2151f9.jpg\"\n",
    "image = Image.open(requests.get(url, stream=True).raw)\n",
    "\n",
    "feature_extractor = AutoFeatureExtractor.from_pretrained(\"microsoft/cvt-13\")\n",
    "model = CvtForImageClassification.from_pretrained(\"microsoft/cvt-13\")\n",
    "\n",
    "inputs = feature_extractor(images=image, return_tensors=\"pt\")\n",
    "outputs = model(**inputs)\n",
    "logits = outputs.logits\n",
    "# model predicts one of the 1000 ImageNet classes\n",
    "predicted_class_idx = logits.argmax(-1).item()\n",
    "print(\"Predicted class:\", model.config.id2label[predicted_class_idx])"
   ]
  }
 ],
 "metadata": {
  "colab": {
   "provenance": []
  },
  "kernelspec": {
   "display_name": "Python 3 (ipykernel)",
   "language": "python",
   "name": "python3"
  },
  "language_info": {
   "codemirror_mode": {
    "name": "ipython",
    "version": 3
   },
   "file_extension": ".py",
   "mimetype": "text/x-python",
   "name": "python",
   "nbconvert_exporter": "python",
   "pygments_lexer": "ipython3",
   "version": "3.11.0"
  },
  "widgets": {
   "application/vnd.jupyter.widget-state+json": {
    "state": {},
    "version_major": 2,
    "version_minor": 0
   }
  }
 },
 "nbformat": 4,
 "nbformat_minor": 4
}
